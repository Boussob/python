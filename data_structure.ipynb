{
 "cells": [
  {
   "cell_type": "code",
   "execution_count": 13,
   "id": "bc8e87c1",
   "metadata": {},
   "outputs": [],
   "source": [
    "shopping_list = []     #type(shopping_list)"
   ]
  },
  {
   "cell_type": "code",
   "execution_count": 20,
   "id": "5e035be6",
   "metadata": {},
   "outputs": [
    {
     "name": "stdout",
     "output_type": "stream",
     "text": [
      "****** Les 1000 merveilles de Diarra ******\n",
      "1: Afficher les articles\n",
      "2: Ajouter un article\n",
      "3: Supprimer un article\n",
      "Autre: Quitter\n",
      "Choix 2\n",
      "--- Ajout d'un article ---\n",
      "Vous ne pouvez pas ajouter un nouvel article\n",
      "****** Les 1000 merveilles de Diarra ******\n",
      "1: Afficher les articles\n",
      "2: Ajouter un article\n",
      "3: Supprimer un article\n",
      "Autre: Quitter\n",
      "Choix 1\n",
      "--- Liste des articles ---\n",
      "huile\n",
      "spray\n",
      "bougie\n",
      "baya\n",
      "huile de massage\n",
      "chaine de cheville\n",
      "créme parfumé\n",
      "Encensoir\n",
      "bougie parfumée\n",
      "bruleur\n",
      "****** Les 1000 merveilles de Diarra ******\n",
      "1: Afficher les articles\n",
      "2: Ajouter un article\n",
      "3: Supprimer un article\n",
      "Autre: Quitter\n",
      "Choix 5\n",
      "A bientot\n"
     ]
    }
   ],
   "source": [
    "menu = True\n",
    "n = 10\n",
    "while menu: #tant que le menu est vrai\n",
    "    print(\"****** Les 1000 merveilles de Diarra ******\")\n",
    "    print(\"1: Afficher les articles\")\n",
    "    print(\"2: Ajouter un article\")\n",
    "    print(\"3: Supprimer un article\")\n",
    "    print(\"Autre: Quitter\")\n",
    "    choix = int(input(\"Choix \"))\n",
    "    if choix == 1:\n",
    "        print(\"--- Liste des articles ---\")\n",
    "        if len(shopping_list) == 0:\n",
    "            print(\"Aucun article à afficher\")\n",
    "        for i in shopping_list:\n",
    "            print(i)\n",
    "    elif choix == 2:\n",
    "        print(\"--- Ajout d'un article ---\")\n",
    "        if len(shopping_list) < n:\n",
    "            article = input(\"Saisir le nom de l'article \")\n",
    "            shopping_list.append(article)\n",
    "            print(\"Article ajouté\")\n",
    "        else:\n",
    "            print(\"Vous ne pouvez pas ajouter un nouvel article\")\n",
    "    elif choix == 3:\n",
    "        print(\"--- Suppression d'un article ---\")\n",
    "        if len(shopping_list) == 0:\n",
    "            print(\"Aucun article à supprimer\")\n",
    "        else:\n",
    "            article = input(\"Saisir le nom de l'article \")\n",
    "            if article in shopping_list:\n",
    "                shopping_list.remove(article)\n",
    "                print(\"Article supprimé\")\n",
    "            else:\n",
    "                print(\"Cet article ne figure pas dans la liste\")\n",
    "    else:\n",
    "        print(\"A bientot\")\n",
    "        menu = False"
   ]
  },
  {
   "cell_type": "code",
   "execution_count": null,
   "id": "b9ba897a",
   "metadata": {},
   "outputs": [],
   "source": []
  },
  {
   "cell_type": "code",
   "execution_count": null,
   "id": "d4b4ad33",
   "metadata": {},
   "outputs": [],
   "source": []
  }
 ],
 "metadata": {
  "kernelspec": {
   "display_name": "Python 3 (ipykernel)",
   "language": "python",
   "name": "python3"
  },
  "language_info": {
   "codemirror_mode": {
    "name": "ipython",
    "version": 3
   },
   "file_extension": ".py",
   "mimetype": "text/x-python",
   "name": "python",
   "nbconvert_exporter": "python",
   "pygments_lexer": "ipython3",
   "version": "3.10.9"
  }
 },
 "nbformat": 4,
 "nbformat_minor": 5
}
